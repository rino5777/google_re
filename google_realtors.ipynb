{
 "cells": [
  {
   "cell_type": "code",
   "execution_count": 13,
   "id": "2c4de45d",
   "metadata": {},
   "outputs": [
    {
     "name": "stdout",
     "output_type": "stream",
     "text": [
      "חיפה · 050-912-5421\n",
      "איתי בן הרוש דירות למכירה בחיפה\n",
      "Коллич. элементов: 22\n"
     ]
    }
   ],
   "source": [
    "import requests\n",
    "from bs4 import BeautifulSoup\n",
    "import pandas as pd\n",
    "c = 0\n",
    "a ={}\n",
    "l = open('pars_google\\תיווך בחיפה - Поиск в Google.html', 'rb') \n",
    "soup = BeautifulSoup(l, 'lxml' )\n",
    "#------------------------ keys/ val\n",
    "name_info = [a.keys()]\n",
    "telefon_info = [a.values()]\n",
    "\n",
    "#----------------- проверка одного дива \n",
    "# soup\n",
    "# b = soup.find('div', class_ = 'rllt__details')\n",
    "# name = b.find('div', class_ = 'dbg0pd OSrXXb eDIkBe' ).find('span', dir = 'rtl') # название\n",
    "# tel_ad = soup.find('div', class_ = 'rllt__details').find_all('div')  #print(tel_ad[8].text)\n",
    "# print(tel_ad[8].text)\n",
    "# print(name.text)\n",
    "\n",
    "def ttext(el):\n",
    "    try:\n",
    "        return el.text\n",
    "    except:\n",
    "        return 0\n",
    "al = soup.find_all('div', class_ = 'rllt__details' )\n",
    "for i in al:\n",
    "    g = i.find('div', class_ = 'dbg0pd OSrXXb eDIkBe' ).find('span', dir = 'rtl')\n",
    "    t = i.find_all('div')\n",
    "#     print(ttext(g))\n",
    "#     print(t[2].text)\n",
    "    name_info.append(ttext(g))\n",
    "    telefon_info.append(t[2].text)\n",
    "#     print('--------------------------')\n",
    "    \n",
    "    c+=1\n",
    "    a[ttext(g)] = t[2].text\n",
    "    \n",
    "print('Коллич. элементов:', c)\n",
    "# print(a)\n",
    "\n",
    "\n"
   ]
  },
  {
   "cell_type": "code",
   "execution_count": 14,
   "id": "63042a1d",
   "metadata": {},
   "outputs": [
    {
     "name": "stdout",
     "output_type": "stream",
     "text": [
      "חיפה · 050-912-5421\n",
      "איתי בן הרוש דירות למכירה בחיפה\n",
      "Коллич. элементов: 22\n"
     ]
    }
   ],
   "source": [
    "import requests\n",
    "from bs4 import BeautifulSoup\n",
    "import pandas as pd\n",
    "c = 0\n",
    "a ={}\n",
    "l = open('pars_google\\תיווך בחיפה - Поиск в Google.html', 'rb') \n",
    "soup = BeautifulSoup(l, 'lxml' )\n",
    "\n",
    "name_info = []\n",
    "telefon_info = []\n",
    "\n",
    "#----------------- проверка одного дива \n",
    "# soup\n",
    "# b = soup.find('div', class_ = 'rllt__details')\n",
    "# name = b.find('div', class_ = 'dbg0pd OSrXXb eDIkBe' ).find('span', dir = 'rtl') # название\n",
    "# tel_ad = soup.find('div', class_ = 'rllt__details').find_all('div')  #print(tel_ad[8].text)\n",
    "# print(tel_ad[8].text)\n",
    "# print(name.text)\n",
    "\n",
    "def ttext(el):\n",
    "    try:\n",
    "        return el.text\n",
    "    except:\n",
    "        return 0\n",
    "al = soup.find_all('div', class_ = 'rllt__details' )\n",
    "for i in al:\n",
    "    g = i.find('div', class_ = 'dbg0pd OSrXXb eDIkBe' ).find('span', dir = 'rtl')\n",
    "    t = i.find_all('div')\n",
    "#     print(ttext(g))\n",
    "#     print(t[2].text)\n",
    "    name_info.append(ttext(g))\n",
    "    telefon_info.append(t[2].text)\n",
    "#     print('--------------------------')\n",
    "    \n",
    "    c+=1\n",
    "    a[ttext(g)] = t[2].text\n",
    "    \n",
    "print('Коллич. элементов:', c)\n",
    "# print(a)\n",
    "\n",
    "\n"
   ]
  },
  {
   "cell_type": "code",
   "execution_count": 51,
   "id": "e0c8a244",
   "metadata": {},
   "outputs": [],
   "source": [
    "dataf = []\n",
    "for i,a in zip(telefon_info, name_info):\n",
    "    a = [i,a]\n",
    "    dataf.append(a)\n",
    "#dataf\n",
    "df = pd.DataFrame(dataf, columns=['tel & info ','name'] )\n",
    "df\n",
    "df.to_csv('goomaps.csv')"
   ]
  },
  {
   "cell_type": "code",
   "execution_count": null,
   "id": "eaab8806",
   "metadata": {},
   "outputs": [],
   "source": []
  },
  {
   "cell_type": "code",
   "execution_count": null,
   "id": "717393f6",
   "metadata": {},
   "outputs": [],
   "source": []
  },
  {
   "cell_type": "code",
   "execution_count": null,
   "id": "b0772d24",
   "metadata": {},
   "outputs": [],
   "source": []
  },
  {
   "cell_type": "code",
   "execution_count": null,
   "id": "e130c9c2",
   "metadata": {},
   "outputs": [],
   "source": []
  },
  {
   "cell_type": "code",
   "execution_count": null,
   "id": "c269e987",
   "metadata": {},
   "outputs": [],
   "source": []
  },
  {
   "cell_type": "code",
   "execution_count": null,
   "id": "afbc6a67",
   "metadata": {},
   "outputs": [],
   "source": []
  }
 ],
 "metadata": {
  "kernelspec": {
   "display_name": "Python 3",
   "language": "python",
   "name": "python3"
  },
  "language_info": {
   "codemirror_mode": {
    "name": "ipython",
    "version": 3
   },
   "file_extension": ".py",
   "mimetype": "text/x-python",
   "name": "python",
   "nbconvert_exporter": "python",
   "pygments_lexer": "ipython3",
   "version": "3.8.8"
  }
 },
 "nbformat": 4,
 "nbformat_minor": 5
}
